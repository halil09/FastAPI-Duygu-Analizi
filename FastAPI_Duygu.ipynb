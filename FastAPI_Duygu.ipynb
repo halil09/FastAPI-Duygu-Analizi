{
 "cells": [
  {
   "cell_type": "code",
   "execution_count": 8,
   "metadata": {},
   "outputs": [
    {
     "name": "stderr",
     "output_type": "stream",
     "text": [
      "INFO:     Started server process [10852]\n",
      "INFO:uvicorn.error:Started server process [10852]\n",
      "INFO:     Waiting for application startup.\n",
      "INFO:uvicorn.error:Waiting for application startup.\n",
      "INFO:     Application startup complete.\n",
      "INFO:uvicorn.error:Application startup complete.\n",
      "ERROR:    [Errno 10048] error while attempting to bind on address ('127.0.0.1', 8000): normal olarak her yuva adresi (iletişim kuralı/ağ adresi/bağlantı noktası) için yalnızca bir kullanıma izin veriliyor\n",
      "ERROR:uvicorn.error:[Errno 10048] error while attempting to bind on address ('127.0.0.1', 8000): normal olarak her yuva adresi (iletişim kuralı/ağ adresi/bağlantı noktası) için yalnızca bir kullanıma izin veriliyor\n",
      "INFO:     Waiting for application shutdown.\n",
      "INFO:uvicorn.error:Waiting for application shutdown.\n",
      "INFO:     Application shutdown complete.\n",
      "INFO:uvicorn.error:Application shutdown complete.\n",
      "ERROR:root:Internal Python error in the inspect module.\n",
      "Below is the traceback from this internal error.\n",
      "\n"
     ]
    },
    {
     "name": "stdout",
     "output_type": "stream",
     "text": [
      "Traceback (most recent call last):\n",
      "  File \"C:\\Users\\halil\\anaconda3\\lib\\site-packages\\uvicorn\\server.py\", line 147, in startup\n",
      "    backlog=config.backlog,\n",
      "  File \"C:\\Users\\halil\\anaconda3\\lib\\asyncio\\base_events.py\", line 1385, in create_server\n",
      "    % (sa, err.strerror.lower())) from None\n",
      "OSError: [Errno 10048] error while attempting to bind on address ('127.0.0.1', 8000): normal olarak her yuva adresi (iletişim kuralı/ağ adresi/bağlantı noktası) için yalnızca bir kullanıma izin veriliyor\n",
      "\n",
      "During handling of the above exception, another exception occurred:\n",
      "\n",
      "Traceback (most recent call last):\n",
      "  File \"C:\\Users\\halil\\anaconda3\\lib\\site-packages\\IPython\\core\\interactiveshell.py\", line 3331, in run_code\n",
      "    exec(code_obj, self.user_global_ns, self.user_ns)\n",
      "  File \"<ipython-input-8-8f42d33ca8f7>\", line 21, in <module>\n",
      "    uvicorn.run(app, host='127.0.0.1', port=8000)\n",
      "  File \"C:\\Users\\halil\\anaconda3\\lib\\site-packages\\uvicorn\\main.py\", line 386, in run\n",
      "    server.run()\n",
      "  File \"C:\\Users\\halil\\anaconda3\\lib\\site-packages\\uvicorn\\server.py\", line 49, in run\n",
      "    loop.run_until_complete(self.serve(sockets=sockets))\n",
      "  File \"C:\\Users\\halil\\anaconda3\\lib\\site-packages\\nest_asyncio.py\", line 92, in run_until_complete\n",
      "    self._run_once()\n",
      "  File \"C:\\Users\\halil\\anaconda3\\lib\\site-packages\\nest_asyncio.py\", line 132, in _run_once\n",
      "    handle._run()\n",
      "  File \"C:\\Users\\halil\\anaconda3\\lib\\site-packages\\nest_asyncio.py\", line 201, in run\n",
      "    ctx.run(self._callback, *self._args)\n",
      "  File \"C:\\Users\\halil\\anaconda3\\lib\\asyncio\\tasks.py\", line 329, in __wakeup\n",
      "    self.__step()\n",
      "  File \"C:\\Users\\halil\\anaconda3\\lib\\site-packages\\nest_asyncio.py\", line 159, in step\n",
      "    step_orig(task, exc)\n",
      "  File \"C:\\Users\\halil\\anaconda3\\lib\\asyncio\\tasks.py\", line 249, in __step\n",
      "    result = coro.send(None)\n",
      "  File \"C:\\Users\\halil\\anaconda3\\lib\\site-packages\\uvicorn\\server.py\", line 66, in serve\n",
      "    await self.startup(sockets=sockets)\n",
      "  File \"C:\\Users\\halil\\anaconda3\\lib\\site-packages\\uvicorn\\server.py\", line 152, in startup\n",
      "    sys.exit(1)\n",
      "SystemExit: 1\n",
      "\n",
      "During handling of the above exception, another exception occurred:\n",
      "\n",
      "Traceback (most recent call last):\n",
      "  File \"C:\\Users\\halil\\anaconda3\\lib\\site-packages\\IPython\\core\\ultratb.py\", line 1151, in get_records\n",
      "    return _fixed_getinnerframes(etb, number_of_lines_of_context, tb_offset)\n",
      "  File \"C:\\Users\\halil\\anaconda3\\lib\\site-packages\\IPython\\core\\ultratb.py\", line 319, in wrapped\n",
      "    return f(*args, **kwargs)\n",
      "  File \"C:\\Users\\halil\\anaconda3\\lib\\site-packages\\IPython\\core\\ultratb.py\", line 353, in _fixed_getinnerframes\n",
      "    records = fix_frame_records_filenames(inspect.getinnerframes(etb, context))\n",
      "  File \"C:\\Users\\halil\\anaconda3\\lib\\inspect.py\", line 1502, in getinnerframes\n",
      "    frameinfo = (tb.tb_frame,) + getframeinfo(tb, context)\n",
      "AttributeError: 'tuple' object has no attribute 'tb_frame'\n"
     ]
    },
    {
     "ename": "SystemExit",
     "evalue": "1",
     "output_type": "error",
     "traceback": [
      "An exception has occurred, use %tb to see the full traceback.\n",
      "\u001b[1;31m---------------------------------------------------------------------------\u001b[0m",
      "\nDuring handling of the above exception, another exception occurred:\n",
      "\u001b[1;31mSystemExit\u001b[0m\u001b[1;31m:\u001b[0m 1\n"
     ]
    },
    {
     "name": "stdout",
     "output_type": "stream",
     "text": [
      "INFO:     127.0.0.1:58360 - \"GET /predict HTTP/1.1\" 200 OK\n",
      "INFO:     127.0.0.1:58360 - \"POST /predict HTTP/1.1\" 405 Method Not Allowed\n",
      "INFO:     127.0.0.1:58493 - \"GET /predict HTTP/1.1\" 200 OK\n",
      "INFO:     127.0.0.1:63175 - \"GET /openapi.json HTTP/1.1\" 200 OK\n",
      "INFO:     127.0.0.1:51982 - \"GET /predict HTTP/1.1\" 200 OK\n"
     ]
    }
   ],
   "source": [
    "import numpy as np\n",
    "from fastapi import FastAPI, Form\n",
    "import pandas as pd\n",
    "from starlette.responses import HTMLResponse \n",
    "from tensorflow.keras.preprocessing.text import Tokenizer\n",
    "from tensorflow.keras.preprocessing.sequence import pad_sequences\n",
    "import tensorflow as tf\n",
    "import re\n",
    "import uvicorn\n",
    "\n",
    "\n",
    "app = FastAPI()\n",
    "\n",
    "@app.get('/predict', response_class=HTMLResponse)\n",
    "def take_inp():\n",
    "    return '''\n",
    "        <form method=\"post\">\n",
    "        <input maxlength=\"28\" name=\"text\" type=\"text\" value=\"Text Emotion to be tested\" />\n",
    "        <input type=\"submit\" />'''\n",
    "if __name__ == '__main__':\n",
    "    uvicorn.run(app, host='127.0.0.1', port=8000)"
   ]
  },
  {
   "cell_type": "code",
   "execution_count": 1,
   "metadata": {},
   "outputs": [
    {
     "name": "stdout",
     "output_type": "stream",
     "text": [
      "Collecting python-multipart\n",
      "  Downloading python-multipart-0.0.5.tar.gz (32 kB)\n",
      "Requirement already satisfied: six>=1.4.0 in c:\\users\\halil\\anaconda3\\lib\\site-packages (from python-multipart) (1.14.0)\n",
      "Building wheels for collected packages: python-multipart\n",
      "  Building wheel for python-multipart (setup.py): started\n",
      "  Building wheel for python-multipart (setup.py): finished with status 'done'\n",
      "  Created wheel for python-multipart: filename=python_multipart-0.0.5-py3-none-any.whl size=31667 sha256=81c608e453aa20c930113dd7b3a31a821e47238d93312a9c5a08c7bd62acd930\n",
      "  Stored in directory: c:\\users\\halil\\appdata\\local\\pip\\cache\\wheels\\2c\\41\\7c\\bfd1c180534ffdcc0972f78c5758f89881602175d48a8bcd2c\n",
      "Successfully built python-multipart\n",
      "Installing collected packages: python-multipart\n",
      "Successfully installed python-multipart-0.0.5\n"
     ]
    }
   ],
   "source": [
    "!pip install python-multipart"
   ]
  },
  {
   "cell_type": "markdown",
   "metadata": {},
   "source": [
    "http://127.0.0.1:8000/predict "
   ]
  },
  {
   "cell_type": "code",
   "execution_count": 1,
   "metadata": {},
   "outputs": [],
   "source": [
    "import numpy as np\n",
    "from fastapi import FastAPI, Form\n",
    "import pandas as pd\n",
    "from starlette.responses import HTMLResponse \n",
    "from tensorflow.keras.preprocessing.text import Tokenizer\n",
    "from tensorflow.keras.preprocessing.sequence import pad_sequences\n",
    "import tensorflow as tf\n",
    "import re\n",
    "\n",
    "def preProcess_data(text): #cleaning the data\n",
    "    \n",
    "    text = text.lower()\n",
    "    new_text = re.sub('[^a-zA-z0-9\\s]','',text)\n",
    "    new_text = re.sub('rt', '', new_text)\n",
    "    return new_text\n",
    "\n",
    "app = FastAPI()\n",
    "\n",
    "data = pd.read_csv('hepsiburada.csv')\n",
    "tokenizer = Tokenizer(num_words=2000, split=' ')\n",
    "tokenizer.fit_on_texts(data['Review'].values)\n",
    "\n",
    "\n",
    "\n",
    "def my_pipeline(text):#pipeline\n",
    "  text_new = preProcess_data(text)\n",
    "  X = tokenizer.texts_to_sequences(pd.Series(text_new).values)\n",
    "  X = pad_sequences(X, maxlen=59)\n",
    "  return X\n",
    "\n",
    "\n",
    "@app.get('/') #basic get view\n",
    "def basic_view():\n",
    "    return {\"WELCOME\": \"GO TO /docs route, or /post or send post request to /predict \"}\n",
    "\n",
    "\n",
    "\n",
    "@app.get('/predict', response_class=HTMLResponse) #data input by forms\n",
    "def take_inp():\n",
    "    return '''<form method=\"post\"> \n",
    "    <input type=\"text\" maxlength=\"59\" name=\"text\" value=\"Duygu Dedektörü\"/>  \n",
    "    <input type=\"submit\"/> \n",
    "    </form>'''\n",
    "\n",
    "\n",
    "\n",
    "@app.post('/predict') #prediction on data\n",
    "def predict(text:str = Form(...)): #input is from forms\n",
    "    clean_text = my_pipeline(text) #cleaning and preprocessing of the texts\n",
    "    loaded_model = tf.keras.models.load_model('duygu.h5') #loading the saved model\n",
    "    predictions = loaded_model.predict(clean_text) #making predictions\n",
    "    sentiment = int(np.argmax(predictions)) #index of maximum prediction\n",
    "    probability = max(predictions.tolist()[0]) #probability of maximum prediction\n",
    "    if probability<0.5: #assigning appropriate name to prediction\n",
    "        t_sentiment = 'Olumsuz'\n",
    "    elif probability>0.5:\n",
    "        t_sentiment = 'Olumlu'\n",
    "    \n",
    "    return { #returning a dictionary as endpoint\n",
    "        \"Girdiğiniz cümle\": text,\n",
    "        \"Duygu Durumu\": t_sentiment,\n",
    "        \"Duygu Yüzdesi\": probability\n",
    "    }"
   ]
  },
  {
   "cell_type": "code",
   "execution_count": 2,
   "metadata": {},
   "outputs": [
    {
     "ename": "RuntimeError",
     "evalue": "This event loop is already running",
     "output_type": "error",
     "traceback": [
      "\u001b[1;31m---------------------------------------------------------------------------\u001b[0m",
      "\u001b[1;31mRuntimeError\u001b[0m                              Traceback (most recent call last)",
      "\u001b[1;32m<ipython-input-2-f71f1d526669>\u001b[0m in \u001b[0;36m<module>\u001b[1;34m\u001b[0m\n\u001b[0;32m      1\u001b[0m \u001b[1;32mimport\u001b[0m \u001b[0muvicorn\u001b[0m\u001b[1;33m\u001b[0m\u001b[1;33m\u001b[0m\u001b[0m\n\u001b[0;32m      2\u001b[0m \u001b[1;32mif\u001b[0m \u001b[0m__name__\u001b[0m \u001b[1;33m==\u001b[0m \u001b[1;34m'__main__'\u001b[0m\u001b[1;33m:\u001b[0m\u001b[1;33m\u001b[0m\u001b[1;33m\u001b[0m\u001b[0m\n\u001b[1;32m----> 3\u001b[1;33m     \u001b[0muvicorn\u001b[0m\u001b[1;33m.\u001b[0m\u001b[0mrun\u001b[0m\u001b[1;33m(\u001b[0m\u001b[0mapp\u001b[0m\u001b[1;33m,\u001b[0m \u001b[0mhost\u001b[0m\u001b[1;33m=\u001b[0m\u001b[1;34m'127.0.0.1'\u001b[0m\u001b[1;33m,\u001b[0m \u001b[0mport\u001b[0m\u001b[1;33m=\u001b[0m\u001b[1;36m8000\u001b[0m\u001b[1;33m)\u001b[0m\u001b[1;33m\u001b[0m\u001b[1;33m\u001b[0m\u001b[0m\n\u001b[0m",
      "\u001b[1;32m~\\anaconda3\\lib\\site-packages\\uvicorn\\main.py\u001b[0m in \u001b[0;36mrun\u001b[1;34m(app, **kwargs)\u001b[0m\n\u001b[0;32m    384\u001b[0m         \u001b[0msupervisor\u001b[0m\u001b[1;33m.\u001b[0m\u001b[0mrun\u001b[0m\u001b[1;33m(\u001b[0m\u001b[1;33m)\u001b[0m\u001b[1;33m\u001b[0m\u001b[1;33m\u001b[0m\u001b[0m\n\u001b[0;32m    385\u001b[0m     \u001b[1;32melse\u001b[0m\u001b[1;33m:\u001b[0m\u001b[1;33m\u001b[0m\u001b[1;33m\u001b[0m\u001b[0m\n\u001b[1;32m--> 386\u001b[1;33m         \u001b[0mserver\u001b[0m\u001b[1;33m.\u001b[0m\u001b[0mrun\u001b[0m\u001b[1;33m(\u001b[0m\u001b[1;33m)\u001b[0m\u001b[1;33m\u001b[0m\u001b[1;33m\u001b[0m\u001b[0m\n\u001b[0m\u001b[0;32m    387\u001b[0m \u001b[1;33m\u001b[0m\u001b[0m\n\u001b[0;32m    388\u001b[0m \u001b[1;33m\u001b[0m\u001b[0m\n",
      "\u001b[1;32m~\\anaconda3\\lib\\site-packages\\uvicorn\\server.py\u001b[0m in \u001b[0;36mrun\u001b[1;34m(self, sockets)\u001b[0m\n\u001b[0;32m     47\u001b[0m         \u001b[0mself\u001b[0m\u001b[1;33m.\u001b[0m\u001b[0mconfig\u001b[0m\u001b[1;33m.\u001b[0m\u001b[0msetup_event_loop\u001b[0m\u001b[1;33m(\u001b[0m\u001b[1;33m)\u001b[0m\u001b[1;33m\u001b[0m\u001b[1;33m\u001b[0m\u001b[0m\n\u001b[0;32m     48\u001b[0m         \u001b[0mloop\u001b[0m \u001b[1;33m=\u001b[0m \u001b[0masyncio\u001b[0m\u001b[1;33m.\u001b[0m\u001b[0mget_event_loop\u001b[0m\u001b[1;33m(\u001b[0m\u001b[1;33m)\u001b[0m\u001b[1;33m\u001b[0m\u001b[1;33m\u001b[0m\u001b[0m\n\u001b[1;32m---> 49\u001b[1;33m         \u001b[0mloop\u001b[0m\u001b[1;33m.\u001b[0m\u001b[0mrun_until_complete\u001b[0m\u001b[1;33m(\u001b[0m\u001b[0mself\u001b[0m\u001b[1;33m.\u001b[0m\u001b[0mserve\u001b[0m\u001b[1;33m(\u001b[0m\u001b[0msockets\u001b[0m\u001b[1;33m=\u001b[0m\u001b[0msockets\u001b[0m\u001b[1;33m)\u001b[0m\u001b[1;33m)\u001b[0m\u001b[1;33m\u001b[0m\u001b[1;33m\u001b[0m\u001b[0m\n\u001b[0m\u001b[0;32m     50\u001b[0m \u001b[1;33m\u001b[0m\u001b[0m\n\u001b[0;32m     51\u001b[0m     \u001b[1;32masync\u001b[0m \u001b[1;32mdef\u001b[0m \u001b[0mserve\u001b[0m\u001b[1;33m(\u001b[0m\u001b[0mself\u001b[0m\u001b[1;33m,\u001b[0m \u001b[0msockets\u001b[0m\u001b[1;33m=\u001b[0m\u001b[1;32mNone\u001b[0m\u001b[1;33m)\u001b[0m\u001b[1;33m:\u001b[0m\u001b[1;33m\u001b[0m\u001b[1;33m\u001b[0m\u001b[0m\n",
      "\u001b[1;32m~\\anaconda3\\lib\\asyncio\\base_events.py\u001b[0m in \u001b[0;36mrun_until_complete\u001b[1;34m(self, future)\u001b[0m\n\u001b[0;32m    568\u001b[0m         \u001b[0mfuture\u001b[0m\u001b[1;33m.\u001b[0m\u001b[0madd_done_callback\u001b[0m\u001b[1;33m(\u001b[0m\u001b[0m_run_until_complete_cb\u001b[0m\u001b[1;33m)\u001b[0m\u001b[1;33m\u001b[0m\u001b[1;33m\u001b[0m\u001b[0m\n\u001b[0;32m    569\u001b[0m         \u001b[1;32mtry\u001b[0m\u001b[1;33m:\u001b[0m\u001b[1;33m\u001b[0m\u001b[1;33m\u001b[0m\u001b[0m\n\u001b[1;32m--> 570\u001b[1;33m             \u001b[0mself\u001b[0m\u001b[1;33m.\u001b[0m\u001b[0mrun_forever\u001b[0m\u001b[1;33m(\u001b[0m\u001b[1;33m)\u001b[0m\u001b[1;33m\u001b[0m\u001b[1;33m\u001b[0m\u001b[0m\n\u001b[0m\u001b[0;32m    571\u001b[0m         \u001b[1;32mexcept\u001b[0m\u001b[1;33m:\u001b[0m\u001b[1;33m\u001b[0m\u001b[1;33m\u001b[0m\u001b[0m\n\u001b[0;32m    572\u001b[0m             \u001b[1;32mif\u001b[0m \u001b[0mnew_task\u001b[0m \u001b[1;32mand\u001b[0m \u001b[0mfuture\u001b[0m\u001b[1;33m.\u001b[0m\u001b[0mdone\u001b[0m\u001b[1;33m(\u001b[0m\u001b[1;33m)\u001b[0m \u001b[1;32mand\u001b[0m \u001b[1;32mnot\u001b[0m \u001b[0mfuture\u001b[0m\u001b[1;33m.\u001b[0m\u001b[0mcancelled\u001b[0m\u001b[1;33m(\u001b[0m\u001b[1;33m)\u001b[0m\u001b[1;33m:\u001b[0m\u001b[1;33m\u001b[0m\u001b[1;33m\u001b[0m\u001b[0m\n",
      "\u001b[1;32m~\\anaconda3\\lib\\asyncio\\base_events.py\u001b[0m in \u001b[0;36mrun_forever\u001b[1;34m(self)\u001b[0m\n\u001b[0;32m    523\u001b[0m         \u001b[0mself\u001b[0m\u001b[1;33m.\u001b[0m\u001b[0m_check_closed\u001b[0m\u001b[1;33m(\u001b[0m\u001b[1;33m)\u001b[0m\u001b[1;33m\u001b[0m\u001b[1;33m\u001b[0m\u001b[0m\n\u001b[0;32m    524\u001b[0m         \u001b[1;32mif\u001b[0m \u001b[0mself\u001b[0m\u001b[1;33m.\u001b[0m\u001b[0mis_running\u001b[0m\u001b[1;33m(\u001b[0m\u001b[1;33m)\u001b[0m\u001b[1;33m:\u001b[0m\u001b[1;33m\u001b[0m\u001b[1;33m\u001b[0m\u001b[0m\n\u001b[1;32m--> 525\u001b[1;33m             \u001b[1;32mraise\u001b[0m \u001b[0mRuntimeError\u001b[0m\u001b[1;33m(\u001b[0m\u001b[1;34m'This event loop is already running'\u001b[0m\u001b[1;33m)\u001b[0m\u001b[1;33m\u001b[0m\u001b[1;33m\u001b[0m\u001b[0m\n\u001b[0m\u001b[0;32m    526\u001b[0m         \u001b[1;32mif\u001b[0m \u001b[0mevents\u001b[0m\u001b[1;33m.\u001b[0m\u001b[0m_get_running_loop\u001b[0m\u001b[1;33m(\u001b[0m\u001b[1;33m)\u001b[0m \u001b[1;32mis\u001b[0m \u001b[1;32mnot\u001b[0m \u001b[1;32mNone\u001b[0m\u001b[1;33m:\u001b[0m\u001b[1;33m\u001b[0m\u001b[1;33m\u001b[0m\u001b[0m\n\u001b[0;32m    527\u001b[0m             raise RuntimeError(\n",
      "\u001b[1;31mRuntimeError\u001b[0m: This event loop is already running"
     ]
    },
    {
     "name": "stderr",
     "output_type": "stream",
     "text": [
      "INFO:     Started server process [12024]\n",
      "INFO:     Waiting for application startup.\n",
      "INFO:     Application startup complete.\n",
      "INFO:     Uvicorn running on http://127.0.0.1:8000 (Press CTRL+C to quit)\n"
     ]
    },
    {
     "name": "stdout",
     "output_type": "stream",
     "text": [
      "INFO:     127.0.0.1:54138 - \"GET /predict HTTP/1.1\" 200 OK\n",
      "INFO:     127.0.0.1:54146 - \"POST /predict HTTP/1.1\" 200 OK\n",
      "INFO:     127.0.0.1:54147 - \"GET /predict HTTP/1.1\" 200 OK\n",
      "INFO:     127.0.0.1:54151 - \"POST /predict HTTP/1.1\" 200 OK\n"
     ]
    }
   ],
   "source": [
    "import uvicorn\n",
    "if __name__ == '__main__':\n",
    "    uvicorn.run(app, host='127.0.0.1', port=8000)"
   ]
  },
  {
   "cell_type": "code",
   "execution_count": null,
   "metadata": {},
   "outputs": [],
   "source": []
  }
 ],
 "metadata": {
  "kernelspec": {
   "display_name": "Python 3",
   "language": "python",
   "name": "python3"
  },
  "language_info": {
   "codemirror_mode": {
    "name": "ipython",
    "version": 3
   },
   "file_extension": ".py",
   "mimetype": "text/x-python",
   "name": "python",
   "nbconvert_exporter": "python",
   "pygments_lexer": "ipython3",
   "version": "3.7.6"
  }
 },
 "nbformat": 4,
 "nbformat_minor": 4
}
